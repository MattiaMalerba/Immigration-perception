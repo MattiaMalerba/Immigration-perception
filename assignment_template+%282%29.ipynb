{
 "cells": [
  {
   "cell_type": "markdown",
   "metadata": {
    "collapsed": true
   },
   "source": [
    "# Immigration perception blablbla\n",
    "\n",
    "\n",
    "|Name|SNR|\n",
    "|----|-------|\n",
    "|Mattia Malerba|2008050|\n",
    "|Lorenzo Mattesini|2014924|\n",
    "\n",
    "\n",
    "Here we want to check if tua mamma è puttana \n",
    "\n",
    "# Method\n",
    "\n",
    "La mamma di Lorenzo è una tipa piuttosto socievole"
   ]
  },
  {
   "cell_type": "markdown",
   "metadata": {},
   "source": [
    " # Import dataset\n",
    "\n"
   ]
  }
 ],
 "metadata": {
  "kernelspec": {
   "display_name": "Python 3",
   "language": "python",
   "name": "python3"
  },
  "language_info": {
   "codemirror_mode": {
    "name": "ipython",
    "version": 3
   },
   "file_extension": ".py",
   "mimetype": "text/x-python",
   "name": "python",
   "nbconvert_exporter": "python",
   "pygments_lexer": "ipython3",
   "version": "3.6.3"
  }
 },
 "nbformat": 4,
 "nbformat_minor": 2
}
